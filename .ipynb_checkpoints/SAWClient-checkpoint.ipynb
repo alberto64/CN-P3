{
 "cells": [
  {
   "cell_type": "code",
   "execution_count": 5,
   "metadata": {},
   "outputs": [],
   "source": [
    "import import_ipynb\n",
    "import UDPClient\n",
    "import multiprocessing"
   ]
  },
  {
   "cell_type": "code",
   "execution_count": 6,
   "metadata": {},
   "outputs": [],
   "source": [
    "class SAWClient:\n",
    "\n",
    "    def __init__(self, ip_address):\n",
    "        self.conn = UDPClient.UDPClient((ip_address, 5000))\n",
    "        self.index = 0\n",
    "        self.indexLimit = 10\n",
    "        self.divider = '!#$'\n",
    "        self.timeOutTime = 3"
   ]
  },
  {
   "cell_type": "code",
   "execution_count": 7,
   "metadata": {},
   "outputs": [],
   "source": [
    "    def sendMessage(self, message):\n",
    "        frame = str(self.index) + self.divider + message\n",
    "        replied = False\n",
    "        timeOutLimit = 10\n",
    "        while not replied:\n",
    "            self.conn.sendMessage(frame)\n",
    "            pool = multiprocessing.Pool(processes=1)\n",
    "            result = pool.apply_async(self.conn.recieveMessage, ())\n",
    "            try:\n",
    "                acknowledge = result.get(timeout=self.timeOutTime)\n",
    "                print('Reply: ' + acknowledge)\n",
    "                if acknowledge == str(self.index):\n",
    "                    replied = True\n",
    "                    self.index = (self.index + 1) % self.indexLimit\n",
    "                    print(\"\\nAcknowledgement Received\")\n",
    "                    break\n",
    "            except multiprocessing.context.TimeoutError:\n",
    "                print('\\nAcknowledgement Not Received, Timed Out')\n",
    "                timeOutLimit = timeOutLimit - 1\n",
    "                if timeOutLimit == 0:\n",
    "                    return False\n",
    "        return True"
   ]
  },
  {
   "cell_type": "code",
   "execution_count": null,
   "metadata": {},
   "outputs": [],
   "source": [
    "    def closeConnection(self):\n",
    "        self.conn.closeConnection()"
   ]
  }
 ],
 "metadata": {
  "kernelspec": {
   "display_name": "Python 3",
   "language": "python",
   "name": "python3"
  },
  "language_info": {
   "codemirror_mode": {
    "name": "ipython",
    "version": 3
   },
   "file_extension": ".py",
   "mimetype": "text/x-python",
   "name": "python",
   "nbconvert_exporter": "python",
   "pygments_lexer": "ipython3",
   "version": "3.6.7"
  }
 },
 "nbformat": 4,
 "nbformat_minor": 2
}
