{
 "cells": [
  {
   "cell_type": "code",
   "execution_count": 1,
   "metadata": {},
   "outputs": [
    {
     "name": "stdout",
     "output_type": "stream",
     "text": [
      "importing Jupyter notebook from UDPServer.ipynb\n"
     ]
    }
   ],
   "source": [
    "import import_ipynb\n",
    "import UDPServer\n",
    "import random\n",
    "from multiprocessing import Pool"
   ]
  },
  {
   "cell_type": "code",
   "execution_count": 2,
   "metadata": {},
   "outputs": [],
   "source": [
    "class SAWServer:\n",
    "    \n",
    "    def __init__(self):\n",
    "        self.l = list()"
   ]
  },
  {
   "cell_type": "code",
   "execution_count": 3,
   "metadata": {},
   "outputs": [],
   "source": [
    "    def recieveMessage(self):\n",
    "        self.conn = UDPServer('127.0.0.1')\n",
    "        self.frame = ''\n",
    "        self.pool = Pool(processes = 1)\n",
    "        self.result = pool.apply_async(conn.recieveMessage,)\n",
    "        while True:\n",
    "            self.frame = result.get(timeout=random.randint(5,11))\n",
    "            if self.frame != '':\n",
    "                self.splt = frame.split('3#3')\n",
    "                self.n = int(splt[0])\n",
    "                self.message = splt[1]\n",
    "                if self.n in self.l:\n",
    "                    continue\n",
    "                print (self.message)\n",
    "                self.l.append(n)\n",
    "                break\n",
    "        self.conn.sendMessage('ack','127.0.0.1')\n",
    "        self.conn.closeConection()\n",
    "        "
   ]
  },
  {
   "cell_type": "markdown",
   "metadata": {},
   "source": [
    "$\\xi$"
   ]
  },
  {
   "cell_type": "code",
   "execution_count": null,
   "metadata": {},
   "outputs": [],
   "source": [
    "import UDPServer\n",
    "import random\n",
    "from multiprocessing import Pool\n",
    "\n",
    "\n",
    "class SAWServer:\n",
    "\n",
    "    def __init__(self):\n",
    "        self.conn = UDPServer.UDPServer(('127.0.0.1', 5000))\n",
    "\n",
    "        self.l = list()\n",
    "\n",
    "    def recieveMessage(self):\n",
    "        frame = ''\n",
    "        pool = Pool(processes=1)\n",
    "        result = pool.apply_async(self.conn.recieveMessage, )\n",
    "        while True:\n",
    "            frame = result.get(timeout=random.randint(5, 11))\n",
    "            if frame != '':\n",
    "                splt = frame.split('3#3')\n",
    "                n = int(splt[0])\n",
    "                message = splt[1]\n",
    "                if n not in self.l:\n",
    "                    print(message)\n",
    "                    self.l.append(n)\n",
    "                    break\n",
    "        self.conn.sendMessage(n)\n",
    "\n",
    "    def closeConnection(self):\n",
    "        self.conn.closeConnection()\n"
   ]
  }
 ],
 "metadata": {
  "kernelspec": {
   "display_name": "Python 3",
   "language": "python",
   "name": "python3"
  },
  "language_info": {
   "codemirror_mode": {
    "name": "ipython",
    "version": 3
   },
   "file_extension": ".py",
   "mimetype": "text/x-python",
   "name": "python",
   "nbconvert_exporter": "python",
   "pygments_lexer": "ipython3",
   "version": "3.6.7"
  }
 },
 "nbformat": 4,
 "nbformat_minor": 2
}
