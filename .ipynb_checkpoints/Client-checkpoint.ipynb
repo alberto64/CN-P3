{
 "cells": [
  {
   "cell_type": "code",
   "execution_count": null,
   "metadata": {},
   "outputs": [],
   "source": [
    "import import_ipynb\n",
    "import SAWClient\n",
    "\n",
    "exit = False\n",
    "client = SAWClient.SAWClient('127.0.0.1')\n",
    "\n",
    "while not exit:\n",
    "    message = input(\"Send message:\")\n",
    "    success = client.sendMessage(message)\n",
    "    if message == \"exit\" or not success:\n",
    "        exit = True\n",
    "\n",
    "client.closeConnection()"
   ]
  }
 ],
 "metadata": {
  "kernelspec": {
   "display_name": "Python 3",
   "language": "python",
   "name": "python3"
  },
  "language_info": {
   "codemirror_mode": {
    "name": "ipython",
    "version": 3
   },
   "file_extension": ".py",
   "mimetype": "text/x-python",
   "name": "python",
   "nbconvert_exporter": "python",
   "pygments_lexer": "ipython3",
   "version": "3.6.7"
  }
 },
 "nbformat": 4,
 "nbformat_minor": 2
}
