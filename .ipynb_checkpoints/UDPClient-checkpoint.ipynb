{
 "cells": [
  {
   "cell_type": "code",
   "execution_count": 1,
   "metadata": {},
   "outputs": [],
   "source": [
    "import socket\n",
    "import sys"
   ]
  },
  {
   "cell_type": "code",
   "execution_count": 2,
   "metadata": {},
   "outputs": [],
   "source": [
    "# Create a UDP socket\n",
    "sock = socket.socket(socket.AF_INET, socket.SOCK_DGRAM)\n",
    "\n",
    "server_address = ('localhost', 10000)\n",
    "message = b'This is the message.  It will be repeated.'"
   ]
  },
  {
   "cell_type": "code",
   "execution_count": 3,
   "metadata": {},
   "outputs": [
    {
     "name": "stdout",
     "output_type": "stream",
     "text": [
      "sending b'This is the message.  It will be repeated.'\n",
      "waiting to receive\n",
      "received b'This is the message.  It will be repeated.'\n",
      "sending b'This is the message.  It will be repeated.'\n",
      "waiting to receive\n",
      "received b'This is the message.  It will be repeated.'\n",
      "sending b'This is the message.  It will be repeated.'\n",
      "waiting to receive\n",
      "received b'This is the message.  It will be repeated.'\n",
      "sending b'This is the message.  It will be repeated.'\n",
      "waiting to receive\n",
      "received b'This is the message.  It will be repeated.'\n",
      "sending b'This is the message.  It will be repeated.'\n",
      "waiting to receive\n",
      "received b'This is the message.  It will be repeated.'\n",
      "sending b'This is the message.  It will be repeated.'\n",
      "waiting to receive\n",
      "received b'This is the message.  It will be repeated.'\n",
      "sending b'This is the message.  It will be repeated.'\n",
      "waiting to receive\n",
      "received b'This is the message.  It will be repeated.'\n",
      "sending b'This is the message.  It will be repeated.'\n",
      "waiting to receive\n",
      "received b'This is the message.  It will be repeated.'\n",
      "sending b'This is the message.  It will be repeated.'\n",
      "waiting to receive\n",
      "received b'This is the message.  It will be repeated.'\n",
      "sending b'This is the message.  It will be repeated.'\n",
      "waiting to receive\n",
      "received b'This is the message.  It will be repeated.'\n"
     ]
    }
   ],
   "source": [
    "try:\n",
    "    for x in range(10):\n",
    "        # Send data\n",
    "        message = input('Your message: ')\n",
    "        print('sending {!r}'.format(message))\n",
    "        sent = sock.sendto(message, server_address)\n",
    "\n",
    "        # Receive response\n",
    "        print('waiting to receive')\n",
    "        data, server = sock.recvfrom(4096)\n",
    "        print('received {!r}'.format(data))\n",
    "except:\n",
    "    print('error')"
   ]
  },
  {
   "cell_type": "code",
   "execution_count": null,
   "metadata": {},
   "outputs": [],
   "source": [
    "print('closing socket')\n",
    "sock.close()"
   ]
  }
 ],
 "metadata": {
  "kernelspec": {
   "display_name": "Python 3",
   "language": "python",
   "name": "python3"
  },
  "language_info": {
   "codemirror_mode": {
    "name": "ipython",
    "version": 3
   },
   "file_extension": ".py",
   "mimetype": "text/x-python",
   "name": "python",
   "nbconvert_exporter": "python",
   "pygments_lexer": "ipython3",
   "version": "3.6.7"
  }
 },
 "nbformat": 4,
 "nbformat_minor": 2
}
