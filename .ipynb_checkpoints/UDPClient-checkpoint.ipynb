{
 "cells": [
  {
   "cell_type": "code",
   "execution_count": 1,
   "metadata": {},
   "outputs": [],
   "source": [
    "import socket\n",
    "import sys\n",
    "import random"
   ]
  },
  {
   "cell_type": "code",
   "execution_count": 6,
   "metadata": {},
   "outputs": [
    {
     "ename": "SyntaxError",
     "evalue": "unexpected EOF while parsing (<ipython-input-6-b7e6e8628022>, line 3)",
     "output_type": "error",
     "traceback": [
      "\u001b[0;36m  File \u001b[0;32m\"<ipython-input-6-b7e6e8628022>\"\u001b[0;36m, line \u001b[0;32m3\u001b[0m\n\u001b[0;31m    \u001b[0m\n\u001b[0m    ^\u001b[0m\n\u001b[0;31mSyntaxError\u001b[0m\u001b[0;31m:\u001b[0m unexpected EOF while parsing\n"
     ]
    }
   ],
   "source": [
    "\n",
    "    \n"
   ]
  },
  {
   "cell_type": "code",
   "execution_count": 3,
   "metadata": {},
   "outputs": [],
   "source": [
    "class UDPLayer:   \n",
    "    # server_address = ('localhost', 10000)\n",
    "\n",
    "    def __init__(self, server_address):\n",
    "        self.sock = socket.socket(socket.AF_INET, socket.SOCK_DGRAM)\n",
    "        self.server_address = server_address"
   ]
  },
  {
   "cell_type": "code",
   "execution_count": null,
   "metadata": {},
   "outputs": [
    {
     "name": "stdout",
     "output_type": "stream",
     "text": [
      "\n",
      "Your message: Hi\n",
      "sending b'Hi'\n",
      "waiting to receive\n",
      "received b'Hi'\n",
      "\n",
      "Your message: Hello\n",
      "sending b'Hello'\n",
      "waiting to receive\n",
      "received b'Hi'\n",
      "\n",
      "Your message: Hi\n",
      "sending b'Hi'\n",
      "Data did not send!\n",
      "waiting to receive\n",
      "received b'Hello'\n",
      "\n",
      "Your message: Hi\n",
      "sending b'Hi'\n",
      "waiting to receive\n",
      "received b'Hello'\n",
      "\n",
      "Your message: hi\n",
      "sending b'hi'\n",
      "Data did not send!\n",
      "waiting to receive\n",
      "received b'Hi'\n",
      "\n",
      "Your message: lol\n",
      "sending b'lol'\n",
      "waiting to receive\n",
      "received b'lol'\n"
     ]
    }
   ],
   "source": [
    "    def sendMessage(self, message):\n",
    "        # Send data\n",
    "        # message = str.encode(input('\\nYour message: '))\n",
    "        print('sending {!r}'.format(message))\n",
    "        if(random.randint(0,5) == 0):\n",
    "            print('\\nData did not send!')\n",
    "            return False\n",
    "        else:\n",
    "            if(random.randint(0,10) == 0):\n",
    "                sent = self.sock.sendto(message, server_address)\n",
    "            sent = self.sock.sendto(message, server_address)\n",
    "            return True"
   ]
  },
  {
   "cell_type": "code",
   "execution_count": null,
   "metadata": {},
   "outputs": [],
   "source": [
    "def recieveMessage(self):\n",
    "    # Receive response\n",
    "    print('waiting to receive')\n",
    "    data, server = self.sock.recvfrom(4096)\n",
    "    print('received {!r}'.format(data))\n",
    "    return data"
   ]
  },
  {
   "cell_type": "code",
   "execution_count": 10,
   "metadata": {},
   "outputs": [
    {
     "name": "stdout",
     "output_type": "stream",
     "text": [
      "closing socket\n"
     ]
    }
   ],
   "source": [
    "def closeConnection(self):\n",
    "    # Close channel\n",
    "    print('closing socket')\n",
    "    self.sock.close()"
   ]
  }
 ],
 "metadata": {
  "kernelspec": {
   "display_name": "Python 3",
   "language": "python",
   "name": "python3"
  },
  "language_info": {
   "codemirror_mode": {
    "name": "ipython",
    "version": 3
   },
   "file_extension": ".py",
   "mimetype": "text/x-python",
   "name": "python",
   "nbconvert_exporter": "python",
   "pygments_lexer": "ipython3",
   "version": "3.6.7"
  }
 },
 "nbformat": 4,
 "nbformat_minor": 2
}
