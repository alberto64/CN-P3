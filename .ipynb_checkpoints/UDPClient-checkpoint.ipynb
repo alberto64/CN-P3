{
 "cells": [
  {
   "cell_type": "code",
   "execution_count": 1,
   "metadata": {},
   "outputs": [],
   "source": [
    "import socket\n",
    "import sys\n",
    "import random"
   ]
  },
  {
   "cell_type": "code",
   "execution_count": 7,
   "metadata": {},
   "outputs": [],
   "source": [
    "class UDPClient:   \n",
    "    # server_address = ('localhost', 10000)\n",
    "\n",
    "    def __init__(self, server_address):\n",
    "        self.sock = socket.socket(socket.AF_INET, socket.SOCK_DGRAM)\n",
    "        self.server_address = server_address"
   ]
  },
  {
   "cell_type": "code",
   "execution_count": 8,
   "metadata": {},
   "outputs": [],
   "source": [
    "    def sendMessage(self, message):\n",
    "        # Send data\n",
    "        # message = str.encode(input('\\nYour message: '))\n",
    "        print('sending {!r}'.format(message))\n",
    "        if(random.randint(0,5) == 0):\n",
    "            print('\\nData did not send!')\n",
    "            return False\n",
    "        else:\n",
    "            if(random.randint(0,10) == 0):\n",
    "                sent = self.sock.sendto(message, server_address)\n",
    "            sent = self.sock.sendto(message, server_address)\n",
    "            return True"
   ]
  },
  {
   "cell_type": "code",
   "execution_count": 9,
   "metadata": {},
   "outputs": [],
   "source": [
    "    def recieveMessage(self):\n",
    "        # Receive response\n",
    "        print('waiting to receive')\n",
    "        data, server = self.sock.recvfrom(4096)\n",
    "        print('received {!r}'.format(data))\n",
    "        return data"
   ]
  },
  {
   "cell_type": "code",
   "execution_count": 10,
   "metadata": {},
   "outputs": [],
   "source": [
    "    def closeConnection(self):\n",
    "        print('closing socket')\n",
    "        self.sock.close()"
   ]
  },
  {
   "cell_type": "code",
   "execution_count": null,
   "metadata": {},
   "outputs": [],
   "source": [
    "import socket\n",
    "import random\n",
    "\n",
    "class UDPClient:\n",
    "    # server_address = ('localhost', 10000)\n",
    "\n",
    "    def __init__(self, server_address):\n",
    "        self.sock = socket.socket(socket.AF_INET, socket.SOCK_DGRAM)\n",
    "        self.server_address = server_address\n",
    "\n",
    "    def sendMessage(self, message):\n",
    "        print('sending {!r}'.format(message))\n",
    "        if random.randint(0, 5) == 0:\n",
    "            print('\\nData did not send!')\n",
    "            return False\n",
    "        else:\n",
    "            if random.randint(0, 10) == 0:\n",
    "                sent = self.sock.sendto(str.encode(message), self.server_address)\n",
    "            sent = self.sock.sendto(str.encode(message), self.server_address)\n",
    "            return True\n",
    "\n",
    "    def recieveMessage(self):\n",
    "        print('waiting to receive')\n",
    "        data, server = self.sock.recvfrom(4096)\n",
    "        print('received {!r}'.format(data))\n",
    "        return data.decode()\n",
    "\n",
    "    def closeConnection(self):\n",
    "        print('closing socket')\n",
    "        self.sock.close()\n"
   ]
  }
 ],
 "metadata": {
  "kernelspec": {
   "display_name": "Python 3",
   "language": "python",
   "name": "python3"
  },
  "language_info": {
   "codemirror_mode": {
    "name": "ipython",
    "version": 3
   },
   "file_extension": ".py",
   "mimetype": "text/x-python",
   "name": "python",
   "nbconvert_exporter": "python",
   "pygments_lexer": "ipython3",
   "version": "3.6.7"
  }
 },
 "nbformat": 4,
 "nbformat_minor": 2
}
