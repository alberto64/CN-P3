{
 "cells": [
  {
   "cell_type": "code",
   "execution_count": 1,
   "metadata": {},
   "outputs": [],
   "source": [
    "import socket"
   ]
  },
  {
   "cell_type": "code",
   "execution_count": 2,
   "metadata": {},
   "outputs": [],
   "source": [
    "class UDPServer:\n",
    "\n",
    "    def __init__(self, server_address):\n",
    "        self.sock = socket.socket(socket.AF_INET, socket.SOCK_DGRAM)\n",
    "        print('starting up on {} port {}'.format(*server_address))\n",
    "        self.sock.bind(server_address)\n",
    "        self.server_address = server_address"
   ]
  },
  {
   "cell_type": "code",
   "execution_count": 3,
   "metadata": {},
   "outputs": [],
   "source": [
    "\n",
    "    def recieveMessage(self):\n",
    "        print('\\nwaiting to receive message')\n",
    "        data, self.server_address = self.sock.recvfrom(4096)\n",
    "        print('received {} bytes from {}'.format(len(data), self.server_address))\n",
    "        return data.decode()"
   ]
  },
  {
   "cell_type": "code",
   "execution_count": 4,
   "metadata": {},
   "outputs": [],
   "source": [
    "    def sendMessage(data, address):\n",
    "        sent = sock.sendto(data, address)\n",
    "        print('sent {} bytes back to {}'.format(sent, address))"
   ]
  },
  {
   "cell_type": "code",
   "execution_count": 5,
   "metadata": {},
   "outputs": [],
   "source": [
    "    def closeConnection():\n",
    "        print('closing socket')\n",
    "        self.sock.close()"
   ]
  },
  {
   "cell_type": "code",
   "execution_count": 6,
   "metadata": {},
   "outputs": [],
   "source": [
    "import socket\n",
    "\n",
    "\n",
    "\n",
    "\n",
    "\n",
    "    def sendMessage(self, data):\n",
    "        sent = self.sock.sendto(str.encode(str(data)), self.server_address)\n",
    "        print('sent {} bytes back to {}'.format(sent, self.server_address))\n",
    "\n",
    "    def closeConnection(self):\n",
    "        print('closing socket')\n",
    "        self.sock.close()"
   ]
  }
 ],
 "metadata": {
  "kernelspec": {
   "display_name": "Python 3",
   "language": "python",
   "name": "python3"
  },
  "language_info": {
   "codemirror_mode": {
    "name": "ipython",
    "version": 3
   },
   "file_extension": ".py",
   "mimetype": "text/x-python",
   "name": "python",
   "nbconvert_exporter": "python",
   "pygments_lexer": "ipython3",
   "version": "3.6.7"
  }
 },
 "nbformat": 4,
 "nbformat_minor": 2
}
