{
 "cells": [
  {
   "cell_type": "code",
   "execution_count": 1,
   "metadata": {},
   "outputs": [],
   "source": [
    "import socket\n",
    "import sys\n",
    "import random"
   ]
  },
  {
   "cell_type": "code",
   "execution_count": 2,
   "metadata": {},
   "outputs": [],
   "source": [
    "# Create a UDP socket\n",
    "sock = socket.socket(socket.AF_INET, socket.SOCK_DGRAM)\n",
    "\n",
    "server_address = ('localhost', 10000)\n",
    "message = b':D'\n",
    "sent = b'D:'"
   ]
  },
  {
   "cell_type": "code",
   "execution_count": null,
   "metadata": {},
   "outputs": [
    {
     "name": "stdout",
     "output_type": "stream",
     "text": [
      "\n",
      "Your message: Hi\n",
      "sending b'Hi'\n",
      "waiting to receive\n",
      "received b'Hi'\n",
      "\n",
      "Your message: Hello\n",
      "sending b'Hello'\n",
      "waiting to receive\n",
      "received b'Hi'\n",
      "\n",
      "Your message: Hi\n",
      "sending b'Hi'\n",
      "Data did not send!\n",
      "waiting to receive\n",
      "received b'Hello'\n",
      "\n",
      "Your message: Hi\n",
      "sending b'Hi'\n",
      "waiting to receive\n",
      "received b'Hello'\n",
      "\n",
      "Your message: hi\n",
      "sending b'hi'\n",
      "Data did not send!\n",
      "waiting to receive\n",
      "received b'Hi'\n",
      "\n",
      "Your message: lol\n",
      "sending b'lol'\n",
      "waiting to receive\n",
      "received b'lol'\n"
     ]
    }
   ],
   "source": [
    "for x in range(10):\n",
    "    # Send data\n",
    "    message = str.encode(input('\\nYour message: '))\n",
    "    print('sending {!r}'.format(message))\n",
    "    if(random.randint(0,5) == 0):\n",
    "        print('\\nData did not send!')\n",
    "    else:\n",
    "        if(random.randint(0,10) == 0):\n",
    "            sent = sock.sendto(message, server_address)\n",
    "        sent = sock.sendto(message, server_address)\n",
    "\n",
    "        # Receive response\n",
    "        print('waiting to receive')\n",
    "        data, server = sock.recvfrom(4096)\n",
    "        print('received {!r}'.format(data))"
   ]
  },
  {
   "cell_type": "code",
   "execution_count": 10,
   "metadata": {},
   "outputs": [
    {
     "name": "stdout",
     "output_type": "stream",
     "text": [
      "closing socket\n"
     ]
    }
   ],
   "source": [
    "# Close channel\n",
    "print('closing socket')\n",
    "sock.close()"
   ]
  }
 ],
 "metadata": {
  "kernelspec": {
   "display_name": "Python 3",
   "language": "python",
   "name": "python3"
  },
  "language_info": {
   "codemirror_mode": {
    "name": "ipython",
    "version": 3
   },
   "file_extension": ".py",
   "mimetype": "text/x-python",
   "name": "python",
   "nbconvert_exporter": "python",
   "pygments_lexer": "ipython3",
   "version": "3.6.7"
  }
 },
 "nbformat": 4,
 "nbformat_minor": 2
}
