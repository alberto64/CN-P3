{
 "cells": [
  {
   "cell_type": "code",
   "execution_count": 1,
   "metadata": {},
   "outputs": [],
   "source": [
    "import socket\n",
    "import random"
   ]
  },
  {
   "cell_type": "code",
   "execution_count": 2,
   "metadata": {},
   "outputs": [],
   "source": [
    "class UDPClient:\n",
    "\n",
    "    def __init__(self, server_address):\n",
    "        self.sock = socket.socket(socket.AF_INET, socket.SOCK_DGRAM)\n",
    "        self.server_address = server_address"
   ]
  },
  {
   "cell_type": "code",
   "execution_count": 3,
   "metadata": {},
   "outputs": [],
   "source": [
    "    def sendMessage(self, message):\n",
    "        print('sending {!r}'.format(message))\n",
    "        if random.randint(0, 5) == 0:\n",
    "            print('\\nData did not send!')\n",
    "        else:\n",
    "            if random.randint(0, 10) == 0:\n",
    "                print('\\n Sent data twice!')\n",
    "                self.sock.sendto(str.encode(message), self.server_address)\n",
    "            self.sock.sendto(str.encode(message), self.server_address)"
   ]
  },
  {
   "cell_type": "code",
   "execution_count": 4,
   "metadata": {},
   "outputs": [],
   "source": [
    "    def recieveMessage(self):\n",
    "        print('waiting to receive')\n",
    "        data, server = self.sock.recvfrom(4096)\n",
    "        print('received {!r}'.format(data))\n",
    "        return data.decode()"
   ]
  },
  {
   "cell_type": "code",
   "execution_count": 5,
   "metadata": {},
   "outputs": [],
   "source": [
    "    def closeConnection(self):\n",
    "        print('closing socket')\n",
    "        self.sock.close()"
   ]
  }
 ],
 "metadata": {
  "kernelspec": {
   "display_name": "Python 3",
   "language": "python",
   "name": "python3"
  },
  "language_info": {
   "codemirror_mode": {
    "name": "ipython",
    "version": 3
   },
   "file_extension": ".py",
   "mimetype": "text/x-python",
   "name": "python",
   "nbconvert_exporter": "python",
   "pygments_lexer": "ipython3",
   "version": "3.6.7"
  }
 },
 "nbformat": 4,
 "nbformat_minor": 2
}
