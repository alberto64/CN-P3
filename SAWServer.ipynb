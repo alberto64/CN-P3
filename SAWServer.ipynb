{
 "cells": [
  {
   "cell_type": "code",
   "execution_count": 1,
   "metadata": {},
   "outputs": [
    {
     "name": "stdout",
     "output_type": "stream",
     "text": [
      "importing Jupyter notebook from UDPServer.ipynb\n"
     ]
    }
   ],
   "source": [
    "import import_ipynb\n",
    "import UDPServer"
   ]
  },
  {
   "cell_type": "code",
   "execution_count": 2,
   "metadata": {},
   "outputs": [],
   "source": [
    "class SAWServer:\n",
    "\n",
    "    def __init__(self, ip_address):\n",
    "        self.conn = UDPServer.UDPServer((ip_address, 5000))\n",
    "        self.divider = '!#$'\n",
    "        self.memoryQueue = list()\n",
    "        self.memoryQueue.append(-1)\n",
    "        self.memoryQueue.append(-1)\n",
    "        self.memoryQueue.append(-1)\n",
    "        self.memoryQueue.append(-1)\n",
    "        self.memoryQueue.append(-1)"
   ]
  },
  {
   "cell_type": "code",
   "execution_count": 3,
   "metadata": {},
   "outputs": [],
   "source": [
    "    def recieveMessage(self):\n",
    "        exit = False\n",
    "        while not exit:\n",
    "            while True:\n",
    "                frame = self.conn.recieveMessage()\n",
    "                if frame != '':\n",
    "                    splt = frame.split(self.divider)\n",
    "                    n = int(splt[0])\n",
    "                    message = splt[1]\n",
    "                    if n not in self.memoryQueue:\n",
    "                        print(message)\n",
    "                        self.memoryQueue.insert(0, n)\n",
    "                        self.memoryQueue.pop()\n",
    "                        print(self.memoryQueue)\n",
    "                    self.conn.sendMessage(n)\n",
    "                    if message == \"exit\":\n",
    "                        exit = True\n",
    "                    break"
   ]
  },
  {
   "cell_type": "markdown",
   "metadata": {},
   "source": [
    "$\\xi$"
   ]
  },
  {
   "cell_type": "code",
   "execution_count": null,
   "metadata": {},
   "outputs": [],
   "source": [
    "    def closeConnection(self):\n",
    "        self.conn.closeConnection()"
   ]
  }
 ],
 "metadata": {
  "kernelspec": {
   "display_name": "Python 3",
   "language": "python",
   "name": "python3"
  },
  "language_info": {
   "codemirror_mode": {
    "name": "ipython",
    "version": 3
   },
   "file_extension": ".py",
   "mimetype": "text/x-python",
   "name": "python",
   "nbconvert_exporter": "python",
   "pygments_lexer": "ipython3",
   "version": "3.6.7"
  }
 },
 "nbformat": 4,
 "nbformat_minor": 2
}
