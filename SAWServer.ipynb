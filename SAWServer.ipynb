{
 "cells": [
  {
   "cell_type": "code",
   "execution_count": 1,
   "metadata": {},
   "outputs": [
    {
     "name": "stdout",
     "output_type": "stream",
     "text": [
      "importing Jupyter notebook from UDPServer.ipynb\n"
     ]
    }
   ],
   "source": [
    "import import_ipynb\n",
    "import UDPServer\n",
    "import random\n",
    "from multiprocessing import Pool"
   ]
  },
  {
   "cell_type": "code",
   "execution_count": 1,
   "metadata": {},
   "outputs": [],
   "source": [
    "class SAWServer:\n",
    "    l = list()"
   ]
  },
  {
   "cell_type": "code",
   "execution_count": null,
   "metadata": {},
   "outputs": [],
   "source": [
    "    def recieveMessage(self):\n",
    "        conn = UDPServer('127.0.0.1')\n",
    "        frame = ''\n",
    "        pool = Pool(processes = 1)\n",
    "        result = pool.apply_async(conn.recieveMessage,)\n",
    "        while True:\n",
    "            frame = result.get(timeout=random.randint(5,11))\n",
    "            if frame != '':\n",
    "                splt = frame.split('3#3')\n",
    "                n = int(splt[0])\n",
    "                message = splt[1]\n",
    "                if n in l:\n",
    "                    continue\n",
    "                print message\n",
    "                break\n",
    "        conn.sendMessage('ack','127.0.0.1')\n",
    "        conn.closeConection()\n",
    "        "
   ]
  }
 ],
 "metadata": {
  "kernelspec": {
   "display_name": "Python 3",
   "language": "python",
   "name": "python3"
  },
  "language_info": {
   "codemirror_mode": {
    "name": "ipython",
    "version": 3
   },
   "file_extension": ".py",
   "mimetype": "text/x-python",
   "name": "python",
   "nbconvert_exporter": "python",
   "pygments_lexer": "ipython3",
   "version": "3.7.2"
  }
 },
 "nbformat": 4,
 "nbformat_minor": 2
}
