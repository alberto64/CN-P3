{
 "cells": [
  {
   "cell_type": "code",
   "execution_count": 1,
   "metadata": {},
   "outputs": [],
   "source": [
    "import socket\n",
    "import sys"
   ]
  },
  {
   "cell_type": "code",
   "execution_count": 2,
   "metadata": {},
   "outputs": [
    {
     "name": "stdout",
     "output_type": "stream",
     "text": [
      "starting up on localhost port 10000\n"
     ]
    }
   ],
   "source": [
    "# Create a UDP socket\n",
    "sock = socket.socket(socket.AF_INET, socket.SOCK_DGRAM)\n",
    "\n",
    "# Bind the socket to the port\n",
    "server_address = ('localhost', 10000)\n",
    "print('starting up on {} port {}'.format(*server_address))\n",
    "sock.bind(server_address)"
   ]
  },
  {
   "cell_type": "code",
   "execution_count": null,
   "metadata": {},
   "outputs": [
    {
     "name": "stdout",
     "output_type": "stream",
     "text": [
      "\n",
      "waiting to receive message\n",
      "received 2 bytes from ('127.0.0.1', 38012)\n",
      "b'Hi'\n",
      "sent 2 bytes back to ('127.0.0.1', 38012)\n",
      "\n",
      "waiting to receive message\n",
      "received 2 bytes from ('127.0.0.1', 38012)\n",
      "b'Hi'\n",
      "sent 2 bytes back to ('127.0.0.1', 38012)\n",
      "\n",
      "waiting to receive message\n",
      "received 5 bytes from ('127.0.0.1', 38012)\n",
      "b'Hello'\n",
      "sent 5 bytes back to ('127.0.0.1', 38012)\n",
      "\n",
      "waiting to receive message\n",
      "received 5 bytes from ('127.0.0.1', 38012)\n",
      "b'Hello'\n",
      "sent 5 bytes back to ('127.0.0.1', 38012)\n",
      "\n",
      "waiting to receive message\n",
      "received 2 bytes from ('127.0.0.1', 38012)\n",
      "b'Hi'\n",
      "sent 2 bytes back to ('127.0.0.1', 38012)\n",
      "\n",
      "waiting to receive message\n",
      "received 3 bytes from ('127.0.0.1', 38012)\n",
      "b'lol'\n",
      "sent 3 bytes back to ('127.0.0.1', 38012)\n",
      "\n",
      "waiting to receive message\n"
     ]
    }
   ],
   "source": [
    "# Recieve and send data\n",
    "while True:\n",
    "    print('\\nwaiting to receive message')\n",
    "    data, address = sock.recvfrom(4096)\n",
    "\n",
    "    print('received {} bytes from {}'.format(\n",
    "        len(data), address))\n",
    "    print(data)\n",
    "\n",
    "    if data:\n",
    "        sent = sock.sendto(data, address)\n",
    "        print('sent {} bytes back to {}'.format(\n",
    "            sent, address))"
   ]
  }
 ],
 "metadata": {
  "kernelspec": {
   "display_name": "Python 3",
   "language": "python",
   "name": "python3"
  },
  "language_info": {
   "codemirror_mode": {
    "name": "ipython",
    "version": 3
   },
   "file_extension": ".py",
   "mimetype": "text/x-python",
   "name": "python",
   "nbconvert_exporter": "python",
   "pygments_lexer": "ipython3",
   "version": "3.6.7"
  }
 },
 "nbformat": 4,
 "nbformat_minor": 2
}
