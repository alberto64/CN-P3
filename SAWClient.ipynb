{
 "cells": [
  {
   "cell_type": "code",
   "execution_count": 9,
   "metadata": {},
   "outputs": [],
   "source": [
    "import import_ipynb\n",
    "import UDPClient\n",
    "import random\n",
    "from multiprocessing import Pool\n",
    "import time"
   ]
  },
  {
   "cell_type": "code",
   "execution_count": 5,
   "metadata": {},
   "outputs": [],
   "source": [
    "class SAWClient:\n",
    "    \n",
    "    n = 0"
   ]
  },
  {
   "cell_type": "code",
   "execution_count": null,
   "metadata": {},
   "outputs": [],
   "source": [
    "    def sendMessage(self, message):\n",
    "        frame = str(n) + '3#3' + message\n",
    "        t = time.time()\n",
    "        n = n + 1\n",
    "        conn = UDPClient('127.0.0.1')\n",
    "        conn.sendMessage(frame)\n",
    "        pool = Pool(processes = 1)\n",
    "        result = pool.apply_async(conn.recieveMessage,)\n",
    "        while True:\n",
    "            acknoledge = result.get(timeout=random.randint(5,11))\n",
    "            if acknoledge == 'ack':\n",
    "                break\n",
    "        print \"SAW Sent Message!\"\n",
    "        conn.closeConnection()\n",
    "        "
   ]
  },
  {
   "cell_type": "code",
   "execution_count": null,
   "metadata": {},
   "outputs": [],
   "source": []
  }
 ],
 "metadata": {
  "kernelspec": {
   "display_name": "Python 3",
   "language": "python",
   "name": "python3"
  },
  "language_info": {
   "codemirror_mode": {
    "name": "ipython",
    "version": 3
   },
   "file_extension": ".py",
   "mimetype": "text/x-python",
   "name": "python",
   "nbconvert_exporter": "python",
   "pygments_lexer": "ipython3",
   "version": "3.7.2"
  }
 },
 "nbformat": 4,
 "nbformat_minor": 2
}
