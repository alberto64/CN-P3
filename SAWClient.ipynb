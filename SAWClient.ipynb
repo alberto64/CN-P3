{
 "cells": [
  {
   "cell_type": "code",
   "execution_count": 5,
   "metadata": {},
   "outputs": [],
   "source": [
    "import import_ipynb\n",
    "import UDPClient\n",
    "import random\n",
    "from multiprocessing import Pool\n",
    "import time"
   ]
  },
  {
   "cell_type": "code",
   "execution_count": 6,
   "metadata": {},
   "outputs": [],
   "source": [
    "class SAWClient:\n",
    "    \n",
    "    def __init__(self):\n",
    "        self.n = 0"
   ]
  },
  {
   "cell_type": "code",
   "execution_count": 7,
   "metadata": {},
   "outputs": [],
   "source": [
    "    def sendMessage(self, message):\n",
    "        self.frame = str(self.n) + '3#3' + message\n",
    "        self.n = self.n + 1\n",
    "        self.conn = UDPClient('127.0.0.1')\n",
    "        self.conn.sendMessage(self.frame)\n",
    "        self.pool = Pool(processes = 1)\n",
    "        self.result = self.pool.apply_async(conn.recieveMessage,)\n",
    "        while True:\n",
    "            self.acknoledge = self.result.get(timeout=random.randint(5,11))\n",
    "            if self.acknoledge == 'ack':\n",
    "                break\n",
    "        print (\"SAW Sent Message!\")\n",
    "        self.conn.closeConnection()\n",
    "        "
   ]
  },
  {
   "cell_type": "code",
   "execution_count": null,
   "metadata": {},
   "outputs": [],
   "source": [
    "# import import_ipynb\n",
    "import UDPClient\n",
    "import random\n",
    "from multiprocessing import Pool\n",
    "\n",
    "\n",
    "class SAWClient:\n",
    "\n",
    "    def __init__(self):\n",
    "        self.conn = UDPClient.UDPClient(('127.0.0.1', 5000))\n",
    "        self.frame = ''\n",
    "        self.n = 0\n",
    "\n",
    "    def sendMessage(self, message):\n",
    "        self.frame = str(self.n) + '3#3' + message\n",
    "        self.n = self.n + 1\n",
    "        success = False\n",
    "        while not success:\n",
    "            self.conn.sendMessage(self.frame)\n",
    "            pool = Pool(processes=1)\n",
    "            result = pool.apply_async(self.conn.recieveMessage, )\n",
    "            try:\n",
    "                while True:\n",
    "                    acknowledge = result.get(timeout=random.randint(5, 11))\n",
    "                    if acknowledge == str(self.n):\n",
    "                        success = True\n",
    "                        break\n",
    "                print(\"\\nAcknowledgement Received\")\n",
    "            except TimeoutError:\n",
    "                print('\\nAcknowledgement Not Received, Time Out')\n",
    "\n",
    "    def closeConnection(self):\n",
    "        self.conn.closeConnection()\n"
   ]
  }
 ],
 "metadata": {
  "kernelspec": {
   "display_name": "Python 3",
   "language": "python",
   "name": "python3"
  },
  "language_info": {
   "codemirror_mode": {
    "name": "ipython",
    "version": 3
   },
   "file_extension": ".py",
   "mimetype": "text/x-python",
   "name": "python",
   "nbconvert_exporter": "python",
   "pygments_lexer": "ipython3",
   "version": "3.6.7"
  }
 },
 "nbformat": 4,
 "nbformat_minor": 2
}
