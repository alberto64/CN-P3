{
 "cells": [
  {
   "cell_type": "code",
   "execution_count": 3,
   "metadata": {},
   "outputs": [
    {
     "ename": "ModuleNotFoundError",
     "evalue": "No module named 'import_ipynb'",
     "output_type": "error",
     "traceback": [
      "\u001b[0;31m---------------------------------------------------------------------------\u001b[0m",
      "\u001b[0;31mModuleNotFoundError\u001b[0m                       Traceback (most recent call last)",
      "\u001b[0;32m<ipython-input-3-c71fcab9f14c>\u001b[0m in \u001b[0;36m<module>\u001b[0;34m\u001b[0m\n\u001b[0;32m----> 1\u001b[0;31m \u001b[0;32mimport\u001b[0m \u001b[0mimport_ipynb\u001b[0m\u001b[0;34m\u001b[0m\u001b[0;34m\u001b[0m\u001b[0m\n\u001b[0m\u001b[1;32m      2\u001b[0m \u001b[0;32mimport\u001b[0m \u001b[0mUDPClient\u001b[0m\u001b[0;34m\u001b[0m\u001b[0;34m\u001b[0m\u001b[0m\n\u001b[1;32m      3\u001b[0m \u001b[0;32mimport\u001b[0m \u001b[0mmultiprocessing\u001b[0m\u001b[0;34m\u001b[0m\u001b[0;34m\u001b[0m\u001b[0m\n",
      "\u001b[0;31mModuleNotFoundError\u001b[0m: No module named 'import_ipynb'"
     ]
    }
   ],
   "source": [
    "import import_ipynb\n",
    "import UDPClient\n",
    "import multiprocessing"
   ]
  },
  {
   "cell_type": "code",
   "execution_count": 6,
   "metadata": {},
   "outputs": [],
   "source": [
    "class SAWClient:\n",
    "\n",
    "    def __init__(self, ip_address):\n",
    "        self.conn = UDPClient.UDPClient((ip_address, 5000))\n",
    "        self.index = 0\n",
    "        self.indexLimit = 10\n",
    "        self.divider = '!#$'\n",
    "        self.timeOutTime = 3"
   ]
  },
  {
   "cell_type": "code",
   "execution_count": 7,
   "metadata": {},
   "outputs": [],
   "source": [
    "    def sendMessage(self, message):\n",
    "        frame = str(self.index) + self.divider + message\n",
    "        replied = False\n",
    "        timeOutLimit = 10\n",
    "        while not replied:\n",
    "            self.conn.sendMessage(frame)\n",
    "            pool = multiprocessing.Pool(processes=1)\n",
    "            result = pool.apply_async(self.conn.recieveMessage, ())\n",
    "            try:\n",
    "                acknowledge = result.get(timeout=self.timeOutTime)\n",
    "                print('Reply: ' + acknowledge)\n",
    "                if acknowledge == str(self.index):\n",
    "                    replied = True\n",
    "                    self.index = (self.index + 1) % self.indexLimit\n",
    "                    print(\"\\nAcknowledgement Received\")\n",
    "                    break\n",
    "            except multiprocessing.context.TimeoutError:\n",
    "                print('\\nAcknowledgement Not Received, Timed Out')\n",
    "                timeOutLimit = timeOutLimit - 1\n",
    "                if timeOutLimit == 0:\n",
    "                    return False\n",
    "        return True"
   ]
  },
  {
   "cell_type": "code",
   "execution_count": null,
   "metadata": {},
   "outputs": [],
   "source": [
    "    def closeConnection(self):\n",
    "        self.conn.closeConnection()"
   ]
  }
 ],
 "metadata": {
  "kernelspec": {
   "display_name": "Python 3",
   "language": "python",
   "name": "python3"
  },
  "language_info": {
   "codemirror_mode": {
    "name": "ipython",
    "version": 3
   },
   "file_extension": ".py",
   "mimetype": "text/x-python",
   "name": "python",
   "nbconvert_exporter": "python",
   "pygments_lexer": "ipython3",
   "version": "3.6.7"
  }
 },
 "nbformat": 4,
 "nbformat_minor": 2
}
