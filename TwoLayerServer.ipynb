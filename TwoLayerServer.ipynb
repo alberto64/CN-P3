{
 "cells": [
  {
   "cell_type": "markdown",
   "metadata": {},
   "source": [
    "# Get required imports"
   ]
  },
  {
   "cell_type": "code",
   "execution_count": 1,
   "metadata": {
    "scrolled": false
   },
   "outputs": [],
   "source": [
    "import socket\n",
    "import random"
   ]
  },
  {
   "cell_type": "markdown",
   "metadata": {},
   "source": [
    "# First Layer the User Datagram Protocol.\n",
    "    - Constructor: The user assigns a channel to bind with the server which will send the informaton through.\n",
    "    - recieveMessage(): Listens and recieves any message that arrives in the channel.\n",
    "    - sendMessage(): Sends through the channel a response that is meant as a reply from the recieved message.\n",
    "    - closeConnection(): Shuts down the server."
   ]
  },
  {
   "cell_type": "code",
   "execution_count": 2,
   "metadata": {},
   "outputs": [],
   "source": [
    "class UDPServer:\n",
    "\n",
    "    def __init__(self, server_address, debug):\n",
    "        self.sock = socket.socket(socket.AF_INET, socket.SOCK_DGRAM)\n",
    "        self.debug = debug\n",
    "        if self.debug:\n",
    "            print('DEBUG - Starting up on {} port {}'.format(*server_address))\n",
    "        self.sock.bind(server_address)\n",
    "        self.server_address = server_address\n",
    "\n",
    "    def recieveMessage(self):\n",
    "        if self.debug:\n",
    "            print('DEBUG - waiting to receive message')\n",
    "        data, self.server_address = self.sock.recvfrom(4096)\n",
    "        if self.debug:\n",
    "            print('DEBUG - received {} bytes from {}'.format(len(data), self.server_address))\n",
    "        return data.decode()\n",
    "\n",
    "    def sendMessage(self, data):\n",
    "        if random.randint(0, 5) == 0:\n",
    "            if self.debug:\n",
    "                print('\\nDEBUG - Data did not send!')\n",
    "            return False\n",
    "        if random.randint(0, 10) == 0:\n",
    "            self.sock.sendto(str.encode(str(data)), self.server_address)\n",
    "        sent = self.sock.sendto(str.encode(str(data)), self.server_address)\n",
    "        if self.debug:\n",
    "            print('DEBUG - sent {} bytes back to {}'.format(sent, self.server_address))\n",
    "\n",
    "    def closeConnection(self):\n",
    "        if self.debug:\n",
    "            print('DEBUG - closing socket')\n",
    "        self.sock.close()"
   ]
  },
  {
   "cell_type": "markdown",
   "metadata": {},
   "source": [
    "# Second Layer the Stop and Wait Protocol.\n",
    "    - Constructor: The user assigns a channel to send messages back to the client.\n",
    "    - recieveMessage(): Listens and recieves any message that arrives in the channel, sending a reply immidiatly and sending any new info into the server.\n",
    "    - closeConnection(): Shuts down the server."
   ]
  },
  {
   "cell_type": "code",
   "execution_count": 3,
   "metadata": {},
   "outputs": [],
   "source": [
    "class SAWServer:\n",
    "\n",
    "    def __init__(self, ip_address, debug):\n",
    "        self.debug = debug\n",
    "        self.conn = UDPServer((ip_address, 5000), debug)\n",
    "        self.divider = '!#$'\n",
    "        self.memoryQueue = list()\n",
    "        for i in range(0, 10):\n",
    "            self.memoryQueue.append(-1)\n",
    "\n",
    "    def recieveMessage(self):\n",
    "        while True:\n",
    "            print(\"\\nListening for Client message.\\n\")\n",
    "            frame = self.conn.recieveMessage()\n",
    "            if frame != '':\n",
    "                splt = frame.split(self.divider)\n",
    "                n = int(splt[0])\n",
    "                self.conn.sendMessage(n)\n",
    "                message = splt[1]\n",
    "                if n not in self.memoryQueue:\n",
    "                    self.memoryQueue.insert(0, n)\n",
    "                    self.memoryQueue.pop()\n",
    "                    if self.debug:\n",
    "                        print('DEBUG - {}'.format(self.memoryQueue))\n",
    "                    return message\n",
    "                if self.debug:\n",
    "                    print('DEBUG - Repeated Package')\n",
    "\n",
    "    def closeConnection(self):\n",
    "        self.conn.closeConnection()"
   ]
  },
  {
   "cell_type": "markdown",
   "metadata": {},
   "source": [
    "# Serve Interface.\n",
    "    - Starts the server and displays any new data."
   ]
  },
  {
   "cell_type": "code",
   "execution_count": null,
   "metadata": {},
   "outputs": [
    {
     "name": "stdout",
     "output_type": "stream",
     "text": [
      "DEBUG - Starting up on 127.0.0.1 port 5000\n",
      "\n",
      "Listening for Client message.\n",
      "\n",
      "DEBUG - waiting to receive message\n",
      "DEBUG - received 6 bytes from ('127.0.0.1', 54855)\n",
      "DEBUG - sent 1 bytes back to ('127.0.0.1', 54855)\n",
      "DEBUG - [0, -1, -1, -1, -1, -1, -1, -1, -1, -1]\n",
      "Recieved: Hi\n",
      "\n",
      "Listening for Client message.\n",
      "\n",
      "DEBUG - waiting to receive message\n",
      "DEBUG - received 9 bytes from ('127.0.0.1', 54855)\n",
      "DEBUG - sent 1 bytes back to ('127.0.0.1', 54855)\n",
      "DEBUG - [1, 0, -1, -1, -1, -1, -1, -1, -1, -1]\n",
      "Recieved: Hello\n",
      "\n",
      "Listening for Client message.\n",
      "\n",
      "DEBUG - waiting to receive message\n",
      "DEBUG - received 6 bytes from ('127.0.0.1', 54855)\n",
      "DEBUG - sent 1 bytes back to ('127.0.0.1', 54855)\n",
      "DEBUG - [2, 1, 0, -1, -1, -1, -1, -1, -1, -1]\n",
      "Recieved: Yo\n",
      "\n",
      "Listening for Client message.\n",
      "\n",
      "DEBUG - waiting to receive message\n",
      "DEBUG - received 11 bytes from ('127.0.0.1', 54855)\n",
      "DEBUG - sent 1 bytes back to ('127.0.0.1', 54855)\n",
      "DEBUG - [3, 2, 1, 0, -1, -1, -1, -1, -1, -1]\n",
      "Recieved: Bastard\n",
      "\n",
      "Listening for Client message.\n",
      "\n",
      "DEBUG - waiting to receive message\n",
      "DEBUG - received 11 bytes from ('127.0.0.1', 54855)\n",
      "DEBUG - sent 1 bytes back to ('127.0.0.1', 54855)\n",
      "DEBUG - Repeated Package\n",
      "\n",
      "Listening for Client message.\n",
      "\n",
      "DEBUG - waiting to receive message\n",
      "DEBUG - received 11 bytes from ('127.0.0.1', 54855)\n",
      "DEBUG - sent 1 bytes back to ('127.0.0.1', 54855)\n",
      "DEBUG - Repeated Package\n",
      "\n",
      "Listening for Client message.\n",
      "\n",
      "DEBUG - waiting to receive message\n",
      "DEBUG - received 11 bytes from ('127.0.0.1', 54855)\n",
      "DEBUG - sent 1 bytes back to ('127.0.0.1', 54855)\n",
      "DEBUG - Repeated Package\n",
      "\n",
      "Listening for Client message.\n",
      "\n",
      "DEBUG - waiting to receive message\n",
      "DEBUG - received 11 bytes from ('127.0.0.1', 54855)\n",
      "DEBUG - sent 1 bytes back to ('127.0.0.1', 54855)\n",
      "DEBUG - Repeated Package\n",
      "\n",
      "Listening for Client message.\n",
      "\n",
      "DEBUG - waiting to receive message\n",
      "DEBUG - received 11 bytes from ('127.0.0.1', 54855)\n",
      "DEBUG - sent 1 bytes back to ('127.0.0.1', 54855)\n",
      "DEBUG - Repeated Package\n",
      "\n",
      "Listening for Client message.\n",
      "\n",
      "DEBUG - waiting to receive message\n",
      "DEBUG - received 11 bytes from ('127.0.0.1', 54855)\n",
      "DEBUG - sent 1 bytes back to ('127.0.0.1', 54855)\n",
      "DEBUG - Repeated Package\n",
      "\n",
      "Listening for Client message.\n",
      "\n",
      "DEBUG - waiting to receive message\n",
      "DEBUG - received 11 bytes from ('127.0.0.1', 54855)\n",
      "DEBUG - sent 1 bytes back to ('127.0.0.1', 54855)\n",
      "DEBUG - Repeated Package\n",
      "\n",
      "Listening for Client message.\n",
      "\n",
      "DEBUG - waiting to receive message\n"
     ]
    }
   ],
   "source": [
    "exit = False\n",
    "server = SAWServer('127.0.0.1', True)\n",
    "\n",
    "while not exit:\n",
    "    message = server.recieveMessage()\n",
    "    print(\"Recieved: \" + message)\n",
    "    if message == \"exit\":\n",
    "        exit = True\n",
    "\n",
    "\n",
    "server.closeConnection()\n"
   ]
  }
 ],
 "metadata": {
  "kernelspec": {
   "display_name": "Python 3",
   "language": "python",
   "name": "python3"
  },
  "language_info": {
   "codemirror_mode": {
    "name": "ipython",
    "version": 3
   },
   "file_extension": ".py",
   "mimetype": "text/x-python",
   "name": "python",
   "nbconvert_exporter": "python",
   "pygments_lexer": "ipython3",
   "version": "3.6.7"
  }
 },
 "nbformat": 4,
 "nbformat_minor": 2
}
